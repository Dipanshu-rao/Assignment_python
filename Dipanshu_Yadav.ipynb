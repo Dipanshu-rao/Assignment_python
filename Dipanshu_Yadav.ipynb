{
  "cells": [
    {
      "cell_type": "markdown",
      "metadata": {
        "id": "8RQK-C-dGlSj"
      },
      "source": [
        "1. the `Person` class has a constructor that takes `name` and `age` as arguments and assigns them to the object's attributes. The `introduce` method is then invoked on the object to introduce the person.\n"
      ]
    },
    {
      "cell_type": "code",
      "execution_count": null,
      "metadata": {
        "id": "hcpppc5pGsgh"
      },
      "outputs": [],
      "source": [
        "class Person:\n",
        "  def __init__(self,name,age):\n",
        "    self.name = name\n",
        "    self.age = age\n",
        "  def DipanshuYadav(self):\n",
        "    print(f\"My name is {self.name} and iam {self.age} year old\")"
      ]
    },
    {
      "cell_type": "code",
      "execution_count": null,
      "metadata": {
        "colab": {
          "base_uri": "https://localhost:8080/"
        },
        "id": "8KOBYSwvJZZL",
        "outputId": "f45b8dd6-67bc-4977-d6d2-fedfba29811f"
      },
      "outputs": [
        {
          "name": "stdout",
          "output_type": "stream",
          "text": [
            "My name is dipanshu and iam 17 year old\n"
          ]
        }
      ],
      "source": [
        "set=Person(\"dipanshu\",\"17\")\n",
        "set.DipanshuYadav()"
      ]
    },
    {
      "cell_type": "markdown",
      "metadata": {
        "id": "AXGXrIgMKh5e"
      },
      "source": [
        "2. the `Car` class has a constructor that takes `brand` and `model` as arguments and assigns them to the object's attributes. The `display_info` method is then invoked on the object to display the car's brand and model.\n"
      ]
    },
    {
      "cell_type": "code",
      "execution_count": null,
      "metadata": {
        "id": "3N9AsGLwJynh"
      },
      "outputs": [],
      "source": [
        "class Car:\n",
        "  def __init__(self,brand,model,color):\n",
        "    self.brand = brand\n",
        "    self.model = model\n",
        "    self.color = color\n",
        "  def display_info(self):\n",
        "    print(f\"{self.model} {self.brand}\")"
      ]
    },
    {
      "cell_type": "code",
      "execution_count": null,
      "metadata": {
        "id": "kxtWSStlMunQ"
      },
      "outputs": [],
      "source": [
        "car1=Car(\"toyota\",\"fortuner legender\",\"Red\")"
      ]
    },
    {
      "cell_type": "code",
      "execution_count": null,
      "metadata": {
        "colab": {
          "base_uri": "https://localhost:8080/",
          "height": 36
        },
        "id": "0d9RXQcwNQNS",
        "outputId": "b6a35ef7-5c9d-41c3-a860-078eee9b1175"
      },
      "outputs": [
        {
          "output_type": "execute_result",
          "data": {
            "text/plain": [
              "'fortuner legender'"
            ],
            "application/vnd.google.colaboratory.intrinsic+json": {
              "type": "string"
            }
          },
          "metadata": {},
          "execution_count": 3
        }
      ],
      "source": [
        "car1.brand\n",
        "car1.model"
      ]
    },
    {
      "cell_type": "markdown",
      "metadata": {
        "id": "fQZCqMHhO5Yn"
      },
      "source": [
        "3. the `BankAccount` class has a constructor that takes `account_number` and `balance` as arguments and assigns them to the object's attributes. The `display_balance` method is then invoked on the object to display the account number and balance.\n"
      ]
    },
    {
      "cell_type": "code",
      "execution_count": null,
      "metadata": {
        "id": "OkCgCp-SP_4-"
      },
      "outputs": [],
      "source": [
        "class BankAccount:\n",
        "  def __init__(self,account_number,balance):\n",
        "    self.account_number = account_number\n",
        "    self.balance = balance\n",
        "  def display_balance(self):\n",
        "    print(f\"{self.account_number} {self.balance}\")"
      ]
    },
    {
      "cell_type": "code",
      "execution_count": null,
      "metadata": {
        "id": "ttoebpqxQg-a"
      },
      "outputs": [],
      "source": [
        "bankaccount1=BankAccount(\"1458\",\"100000\")"
      ]
    },
    {
      "cell_type": "code",
      "execution_count": null,
      "metadata": {
        "colab": {
          "base_uri": "https://localhost:8080/"
        },
        "id": "LA4ahxpORpKS",
        "outputId": "ac8ecdc5-ac4f-47be-b263-225456f3adde"
      },
      "outputs": [
        {
          "output_type": "stream",
          "name": "stdout",
          "text": [
            "1458 100000\n"
          ]
        }
      ],
      "source": [
        "bankaccount1.display_balance()"
      ]
    },
    {
      "cell_type": "markdown",
      "metadata": {
        "id": "0Ck6Tcy7ctRf"
      },
      "source": [
        "4.  the `MobilePhone` class has a constructor that takes `brand` and `model` as arguments and assigns them to the object's attributes. The `make_call` method is then invoked on the object to make a call with the phone.\n"
      ]
    },
    {
      "cell_type": "code",
      "execution_count": null,
      "metadata": {
        "id": "vMe6aNumR-Q4"
      },
      "outputs": [],
      "source": [
        "class MobilePhone:\n",
        "  def __init__(self,brand,model):\n",
        "    self.brand = brand\n",
        "    self.model = model\n",
        "  def make_call(self):\n",
        "    print(f\"{self.brand} {self.model}\")"
      ]
    },
    {
      "cell_type": "code",
      "execution_count": null,
      "metadata": {
        "id": "ZglaZCZHfrpH"
      },
      "outputs": [],
      "source": [
        "mobile1=MobilePhone(\"iphone\",\"16 new\")"
      ]
    },
    {
      "cell_type": "code",
      "execution_count": null,
      "metadata": {
        "colab": {
          "base_uri": "https://localhost:8080/"
        },
        "id": "b3qJNRqHf7ZN",
        "outputId": "b4d967e1-dd67-40ef-f23f-2dc88e17280c"
      },
      "outputs": [
        {
          "output_type": "stream",
          "name": "stdout",
          "text": [
            "iphone 16 new\n"
          ]
        }
      ],
      "source": [
        "mobile1.make_call()"
      ]
    },
    {
      "cell_type": "markdown",
      "metadata": {
        "id": "vrisjhFOhJsS"
      },
      "source": [
        "5. the `Book` class has a constructor that takes `title` and `author` as arguments and assigns them to the object's attributes. The `display_info` method is then invoked on the object to display the book's title and author.\n"
      ]
    },
    {
      "cell_type": "code",
      "execution_count": null,
      "metadata": {
        "id": "Nfh4-lK_hBxF"
      },
      "outputs": [],
      "source": [
        "class Book:\n",
        "  def __init__(self,title,author):\n",
        "    self.title = title\n",
        "    self.author = author\n",
        "  def display_info(self):\n",
        "    print(f\"{self.title} write by {self.author}\")\n"
      ]
    },
    {
      "cell_type": "code",
      "execution_count": null,
      "metadata": {
        "id": "7RaaNkMsi7QX"
      },
      "outputs": [],
      "source": [
        "book1=Book(\"Shri Bhagwat geeta\",\"Vedvyas\")"
      ]
    },
    {
      "cell_type": "code",
      "execution_count": null,
      "metadata": {
        "colab": {
          "base_uri": "https://localhost:8080/"
        },
        "id": "TW9_dMlsj39y",
        "outputId": "521abcbd-f209-426b-8090-1065158c320f"
      },
      "outputs": [
        {
          "output_type": "stream",
          "name": "stdout",
          "text": [
            "Shri Bhagwat geeta write by Vedvyas\n"
          ]
        }
      ],
      "source": [
        "book1.display_info()"
      ]
    },
    {
      "cell_type": "markdown",
      "source": [
        "6. Vehicles: Create a base class called Vehicle with attributes such as make, model, and year. Implement two subclasses Car and Motorcycle that inherit from Vehicle. Add additional methods to the subclasses, such as start_engine() and stop_engine(), and handle any specific behavior or rules for each vehicle type.\n",
        "**bold text**"
      ],
      "metadata": {
        "id": "L275L8OrxsCb"
      }
    },
    {
      "cell_type": "code",
      "source": [
        "class Vehicles:\n",
        "  def __init__(self,make,model,year):\n",
        "    self.make = make\n",
        "    self.model = model\n",
        "    self.year = year\n",
        "\n",
        "  def start_engine(self):\n",
        "    print(f\"Car will be start {self.make} ,{self.model} ,{self.year}\")\n",
        "  def stop_engine(self):\n",
        "    print(f\"bike will be stop {self.make} ,{self.model} ,{self.year}\")"
      ],
      "metadata": {
        "id": "tG3lwgzxxL20"
      },
      "execution_count": null,
      "outputs": []
    },
    {
      "cell_type": "code",
      "source": [
        "class Car(Vehicles):\n",
        "  def __init__(self,make,model,year):\n",
        "    super().__init__(make,model,year)\n",
        "  def start_engine(self):\n",
        "    print(\"car will go\")\n",
        "  def stop_engine(self):\n",
        "    print(\"car will stop\")\n"
      ],
      "metadata": {
        "id": "8kXnwb6KSoxM"
      },
      "execution_count": null,
      "outputs": []
    },
    {
      "cell_type": "code",
      "source": [
        "class Motorcycle(Vehicles):\n",
        "  def __init__(self,make,model,year):\n",
        "    super().__init__(make,model,year)\n",
        "  def start_engine(self):\n",
        "    print(\"bike will satrt\")\n",
        "  def stop_engine(self):\n",
        "    print(\"bike will stop\")\n"
      ],
      "metadata": {
        "id": "-9LzalDUXWqZ"
      },
      "execution_count": null,
      "outputs": []
    },
    {
      "cell_type": "code",
      "source": [
        "my1=Vehicles(\"toyota\",\"Fortuner\",\"2024\")\n",
        "my1.start_engine()\n",
        "my1.stop_engine()\n",
        "my=Car(\"Toyota\",\"Fortuner legender\",\"2024\")\n",
        "my.start_engine()\n",
        "my2=Vehicles(\"Royal enfield\",\"350\",\"2024\")\n",
        "my3=Motorcycle(\"Royal enfield\",\"350\",\"2024\")\n",
        "my2.start_engine()\n",
        "my3.start_engine()\n",
        "my3.stop_engine()"
      ],
      "metadata": {
        "colab": {
          "base_uri": "https://localhost:8080/"
        },
        "id": "MguKVouvjODz",
        "outputId": "b51df1b1-ce71-4af9-9ec7-cc5d27c64d21"
      },
      "execution_count": null,
      "outputs": [
        {
          "output_type": "stream",
          "name": "stdout",
          "text": [
            "Car will be start toyota ,Fortuner ,2024\n",
            "bike will be stop toyota ,Fortuner ,2024\n",
            "car will go\n",
            "Car will be start Royal enfield ,350 ,2024\n",
            "bike will satrt\n",
            "bike will stop\n"
          ]
        }
      ]
    },
    {
      "cell_type": "code",
      "source": [],
      "metadata": {
        "id": "eETt5qmJY3zg"
      },
      "execution_count": null,
      "outputs": []
    },
    {
      "cell_type": "markdown",
      "source": [
        "**7**. Animals: Create a base class called Animal with methods such as eat() and sleep(). Implement two subclasses Dog and Cat that inherit from Animal. Add additional methods to the subclasses, such as bark() for dogs and meow() for cats, and handle any specific behavior or rules for each animal type.\n"
      ],
      "metadata": {
        "id": "5uA1IXS5xwbr"
      }
    },
    {
      "cell_type": "code",
      "source": [
        "class Animals:\n",
        "    def __init__(self, name):\n",
        "        self.name = name\n",
        "\n",
        "    def eat(self):\n",
        "        print(f\"{self.name} is eating.\")\n",
        "\n",
        "    def sleep(self):\n",
        "        print(f\"{self.name} is sleeping.\")"
      ],
      "metadata": {
        "id": "jTeDy-m-4GP9"
      },
      "execution_count": null,
      "outputs": []
    },
    {
      "cell_type": "code",
      "source": [
        "class Dog(Animals):\n",
        "    def __init__(self, name):\n",
        "        super().__init__(name)\n",
        "\n",
        "    def bark(self):\n",
        "        print(f\"{self.name} is barking.\")"
      ],
      "metadata": {
        "id": "v4_9stPlqumb"
      },
      "execution_count": null,
      "outputs": []
    },
    {
      "cell_type": "code",
      "source": [
        "class Cat(Animals):\n",
        "    def __init__(self, name):\n",
        "        super().__init__(name)\n",
        "\n",
        "    def meow(self):\n",
        "        print(f\"{self.name} is meowing.\")"
      ],
      "metadata": {
        "id": "Q6DYq2w_tu5h"
      },
      "execution_count": null,
      "outputs": []
    },
    {
      "cell_type": "code",
      "source": [
        "dog = Dog(\"Rocky\")\n",
        "dog.eat()\n",
        "dog.bark()\n",
        "\n",
        "cat = Cat(\"kite\")\n",
        "cat.eat()\n",
        "cat.meow()"
      ],
      "metadata": {
        "colab": {
          "base_uri": "https://localhost:8080/"
        },
        "id": "SvT-D6t8Luvk",
        "outputId": "0c0003c9-9657-4a07-f82e-8e5b39cad2f1"
      },
      "execution_count": null,
      "outputs": [
        {
          "output_type": "stream",
          "name": "stdout",
          "text": [
            "Rocky is eating.\n",
            "Rocky is barking.\n",
            "kite is eating.\n",
            "kite is meowing.\n"
          ]
        }
      ]
    },
    {
      "cell_type": "markdown",
      "source": [
        "**8**. Library Catalog: Create a base class called LibraryItem with attributes such as title, author, and publication_year. Implement two subclasses Book and Magazine that inherit from LibraryItem. Add additional methods to the subclasses, such as checkout() and return_item(), and handle any specific behavior or rules for each item type.\n"
      ],
      "metadata": {
        "id": "mNRELD7Kxz5y"
      }
    },
    {
      "cell_type": "code",
      "source": [
        "class Catalog:\n",
        "\n",
        "  def __init__(self,title,author,publication_year):\n",
        "    self.title = title\n",
        "    self.author = author\n",
        "    self.publication_year = publication_year\n",
        "  def checkout(self):\n",
        "    print(f\"i will checkout {self.title}\")\n",
        "  def return_item(self):\n",
        "    print(f\"return by {self.author} \")\n",
        "  def _str_(self):\n",
        "    print(f\"{self.publication_year}\")\n",
        "\n",
        "\n"
      ],
      "metadata": {
        "id": "UdmO2A93mz3k"
      },
      "execution_count": null,
      "outputs": []
    },
    {
      "cell_type": "code",
      "source": [
        "class Book(Catalog):\n",
        "    def __init__(self, title, author, publication_year):\n",
        "        super().__init__(title, author, publication_year)\n",
        "\n",
        "    def checkout(self):\n",
        "        print(f\"The book '{self.title}' is checked out.\")\n"
      ],
      "metadata": {
        "id": "T27WgDzyC6OF"
      },
      "execution_count": null,
      "outputs": []
    },
    {
      "cell_type": "code",
      "source": [
        "class Magazine(Catalog):\n",
        "    def __init__(self, title, author, publication_year):\n",
        "        super().__init__(title, author, publication_year)\n",
        "\n",
        "    def return_item(self):\n",
        "        print(f\"Returning the magazine '{self.title}' by {self.author}.\")\n",
        "\n"
      ],
      "metadata": {
        "id": "RypcUG-tCYMK"
      },
      "execution_count": null,
      "outputs": []
    },
    {
      "cell_type": "code",
      "source": [
        "dp1=Catalog(\"Bhagavad Gita\",\"Vyasa\",\"5000 year\")\n",
        "dp1.checkout()\n",
        "dp1.return_item()\n",
        "dp2=Book(\"Bhagavad Gita\",\"Vyasa\",\"5000 year\")\n",
        "dp2.checkout()\n",
        "dp1=Catalog(\"Vibrant Living\",\"Various\",\"2023\")\n",
        "dp3=Magazine(\"Vibrant Living\",\"Various\",\"2023\")\n",
        "dp3.return_item()"
      ],
      "metadata": {
        "colab": {
          "base_uri": "https://localhost:8080/"
        },
        "id": "jJGWnF6687tC",
        "outputId": "1e0bdfdf-97c9-4b83-e143-934d73e46fa3"
      },
      "execution_count": null,
      "outputs": [
        {
          "output_type": "stream",
          "name": "stdout",
          "text": [
            "i will checkout Bhagavad Gita\n",
            "return by Vyasa \n",
            "The book 'Bhagavad Gita' is checked out.\n",
            "Returning the magazine 'Vibrant Living' by Various.\n"
          ]
        }
      ]
    },
    {
      "cell_type": "markdown",
      "source": [
        "9. Employees and Departments: Create a base class called Employee with attributes such as name, salary, and department. Implement two subclasses Manager and Staff that inherit from Employee. Add additional methods to the subclasses, such as assign_task() for managers and attend_meeting() for staff members. Create a separate class called Department that contains a list of employees and methods to add or remove employees from the department.\n"
      ],
      "metadata": {
        "id": "yUy_56dFx3hm"
      }
    },
    {
      "cell_type": "code",
      "source": [
        "class Employee:\n",
        "    def __init__(self, name, salary, department):\n",
        "        self.name = name\n",
        "        self.salary = salary\n",
        "        self.department = department\n",
        "\n",
        "    def __str__(self):\n",
        "        return f\"{self.name}, Salary: {self.salary}, Department: {self.department}\"\n"
      ],
      "metadata": {
        "id": "dqRnUW0Bz6M9"
      },
      "execution_count": null,
      "outputs": []
    },
    {
      "cell_type": "code",
      "source": [
        "class Manager(Employee):\n",
        "    def __init__(self, name, salary, department):\n",
        "        super().__init__(name, salary, department)\n",
        "\n",
        "    def assign_task(self):\n",
        "        print(f\"{self.name} is a task.\")\n"
      ],
      "metadata": {
        "id": "o-LEdhKTz-Xe"
      },
      "execution_count": null,
      "outputs": []
    },
    {
      "cell_type": "code",
      "source": [
        "class Staff(Employee):\n",
        "    def __init__(self, name, salary, department):\n",
        "        super().__init__(name, salary, department)\n",
        "\n",
        "    def attend_meeting(self):\n",
        "        print(f\"{self.name} in a meeting  {self.department} department.\")\n"
      ],
      "metadata": {
        "id": "V-5VbQu40C5K"
      },
      "execution_count": null,
      "outputs": []
    },
    {
      "cell_type": "code",
      "source": [
        "class Department:\n",
        "    def __init__(self, name):\n",
        "        self.name = name\n",
        "        self.employees = []\n"
      ],
      "metadata": {
        "id": "x-7pIADh0JmE"
      },
      "execution_count": null,
      "outputs": []
    },
    {
      "cell_type": "code",
      "source": [
        "def list_employees(self):\n",
        "        print(f\"Employees in {self.name} Department:\")\n",
        "        for employees in self.employees:\n",
        "            print(employees)\n"
      ],
      "metadata": {
        "id": "vy8pXKR40NPy"
      },
      "execution_count": null,
      "outputs": []
    },
    {
      "cell_type": "code",
      "source": [],
      "metadata": {
        "id": "nmLCERtm0RPm"
      },
      "execution_count": null,
      "outputs": []
    },
    {
      "cell_type": "code",
      "source": [
        "def remove_employee(self, employee):\n",
        "        try:\n",
        "            self.employees.remove(employee)\n",
        "            print(f\"{employee.name} has  removed  {self.name} department.\")\n",
        "        except ValueError:\n",
        "            print(f\"{employee.name} is not  {self.name} department.\")\n"
      ],
      "metadata": {
        "id": "qtDaAir70Uzg"
      },
      "execution_count": null,
      "outputs": []
    },
    {
      "cell_type": "code",
      "source": [],
      "metadata": {
        "colab": {
          "base_uri": "https://localhost:8080/"
        },
        "id": "_gfG7Ji53geQ",
        "outputId": "def0b4ba-908f-46eb-f484-c889b835b94f"
      },
      "execution_count": null,
      "outputs": [
        {
          "output_type": "stream",
          "name": "stdout",
          "text": [
            "Employees in Development department:\n",
            "- Dipanshu (70000)\n",
            "- Monu (50000)\n",
            "- Malkit (50000)\n",
            "Dipanshu is assigning tasks.\n",
            "Monu is attending a meeting.\n",
            "Employees in Development department:\n",
            "- Dipanshu (70000)\n",
            "- Monu (50000)\n"
          ]
        }
      ]
    },
    {
      "cell_type": "code",
      "source": [
        "class BankAccount:\n",
        "  def __init__(self,)"
      ],
      "metadata": {
        "id": "U51z2iIN0k6n"
      },
      "execution_count": null,
      "outputs": []
    },
    {
      "cell_type": "markdown",
      "source": [
        "10. Bank Transactions: Create a base class called BankAccount with attributes such as account_number and balance. Implement subclasses for different types of accounts such as CheckingAccount and SavingsAccount that inherit from BankAccount. Add additional methods to the subclasses, such as withdraw() and deposit(), and handle any specific behavior or rules for each account type.\n",
        "**bold text**"
      ],
      "metadata": {
        "id": "N7T7oyMg_G7h"
      }
    },
    {
      "cell_type": "code",
      "source": [
        "class BankAccount:\n",
        "    def __init__(self, account_number, balance):\n",
        "        self.account_number = account_number\n",
        "        self.balance = balance\n",
        "\n",
        "    def info(self):\n",
        "        print(f\"The account_number is {self.account_number}.\")\n",
        "\n",
        "    def __str__(self):\n",
        "        return f\"The balance is {self.balance}.\"\n",
        "\n",
        "    def deposit(self, amount):\n",
        "      self.balance += amount\n",
        "      print(f\"Deposited {amount}. my balance: {self.balance}.\")\n",
        "\n",
        "    def withdraw(self, amount):\n",
        "      self.balance -= amount\n",
        "      print(f\"Withdrew {amount}. my balance: {self.balance}.\")\n",
        "\n",
        "    def transaction(self, action, amount):\n",
        "      print(f\"Transaction: {action} of {amount}. Current balance: {self.balance}.\")\n",
        "\n",
        "\n"
      ],
      "metadata": {
        "id": "6b5Mfk8yjldi"
      },
      "execution_count": null,
      "outputs": []
    },
    {
      "cell_type": "code",
      "source": [
        "def transaction(self, action, amount):\n",
        "        print(f\"Transaction: {action} of {amount}. Current balance: {self.balance}.\")\n"
      ],
      "metadata": {
        "id": "6v-tVoCVj9Cs"
      },
      "execution_count": null,
      "outputs": []
    },
    {
      "cell_type": "code",
      "source": [
        "account = BankAccount(\"ACC12345\", 1000)\n",
        "account.info()\n",
        "\n",
        "account.deposit(500)\n",
        "account.transaction(\"Deposit\", 500)\n",
        "\n",
        "account.withdraw(200)\n",
        "account.transaction(\"Withdraw\", 200)\n",
        "\n",
        "print(account)"
      ],
      "metadata": {
        "colab": {
          "base_uri": "https://localhost:8080/"
        },
        "id": "MZl4ucfkkFEx",
        "outputId": "e4dc1d0f-8da1-4a83-9425-f8df08d46d69"
      },
      "execution_count": null,
      "outputs": [
        {
          "output_type": "stream",
          "name": "stdout",
          "text": [
            "The account_number is ACC12345.\n",
            "Deposited 500. my balance: 1500.\n",
            "Transaction: Deposit of 500. Current balance: 1500.\n",
            "Withdrew 200. my balance: 1300.\n",
            "Transaction: Withdraw of 200. Current balance: 1300.\n",
            "The balance is 1300.\n"
          ]
        }
      ]
    },
    {
      "cell_type": "markdown",
      "source": [
        "11. School Management System: Create a base class called Person with attributes such as name, age, and address. Implement subclasses for different roles such as Student, Teacher, and Staff that inherit from Person. Add additional methods to the subclasses, such as take_exam() for students and teach_subject() for teachers."
      ],
      "metadata": {
        "id": "pjC3yt6kx_Zs"
      }
    },
    {
      "cell_type": "code",
      "source": [
        "class Person:\n",
        "    def __init__(self, name, age, address):\n",
        "        self.name = name\n",
        "        self.age = age\n",
        "        self.address = address\n",
        "\n",
        "    def __str__(self):\n",
        "        return f\"{self.name}, Age: {self.age}, Address: {self.address}\"\n"
      ],
      "metadata": {
        "id": "bQq-KIYq7EE7"
      },
      "execution_count": null,
      "outputs": []
    },
    {
      "cell_type": "code",
      "source": [
        "class Student(Person):\n",
        "    def __init__(self, name, age, address, student_id):\n",
        "        super().__init__(name, age, address)\n",
        "        self.student_id = student_id\n",
        "\n",
        "    def take_exam(self):\n",
        "        print(f\"{self.name} is taking an exam.\")\n"
      ],
      "metadata": {
        "id": "GmmKhLB37JAb"
      },
      "execution_count": null,
      "outputs": []
    },
    {
      "cell_type": "code",
      "source": [
        "class Teacher(Person):\n",
        "    def __init__(self, name, age, address, subject):\n",
        "        super().__init__(name, age, address)\n",
        "        self.subject = subject\n",
        "\n",
        "    def teach_subject(self):\n",
        "        print(f\"{self.name} is teaching {self.subject}.\")\n"
      ],
      "metadata": {
        "id": "WRxKFQ_V7NbT"
      },
      "execution_count": null,
      "outputs": []
    },
    {
      "cell_type": "code",
      "source": [
        "class Staff(Person):\n",
        "    def __init__(self, name, age, address, position):\n",
        "        super().__init__(name, age, address)\n",
        "        self.position = position\n",
        "\n",
        "    def perform_duties(self):\n",
        "        print(f\"{self.name} is performing duties as {self.position}.\")\n"
      ],
      "metadata": {
        "id": "jT-Ngt0t7SIV"
      },
      "execution_count": null,
      "outputs": []
    },
    {
      "cell_type": "code",
      "source": [
        "student1 = Student(\"dipanshu\", 17, \"Nandrampur bass\", \"S001\")\n",
        "teacher1 = Teacher(\"monu\", 18, \"rewari\", \"Math\")\n",
        "staff1 = Staff(\"malkit\", 40, \"jatuwass\", \"Principal\")\n",
        "\n",
        "print(student1)\n",
        "student1.take_exam()\n",
        "\n",
        "print(teacher1)\n",
        "teacher1.teach_subject()\n",
        "\n",
        "print(staff1)\n",
        "staff1.perform_duties()\n"
      ],
      "metadata": {
        "colab": {
          "base_uri": "https://localhost:8080/"
        },
        "id": "OZP5SXfE71a_",
        "outputId": "cb11125c-fae1-4c99-9e8f-40a5c105c0e6"
      },
      "execution_count": null,
      "outputs": [
        {
          "output_type": "stream",
          "name": "stdout",
          "text": [
            "dipanshu, Age: 17, Address: Nandrampur bass\n",
            "dipanshu is taking an exam.\n",
            "monu, Age: 18, Address: rewari\n",
            "monu is teaching Math.\n",
            "malkit, Age: 40, Address: jatuwass\n",
            "malkit is performing duties as Principal.\n"
          ]
        }
      ]
    }
  ],
  "metadata": {
    "colab": {
      "provenance": []
    },
    "kernelspec": {
      "display_name": "Python 3",
      "name": "python3"
    },
    "language_info": {
      "name": "python"
    }
  },
  "nbformat": 4,
  "nbformat_minor": 0
}